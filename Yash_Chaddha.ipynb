{
 "cells": [
  {
   "cell_type": "markdown",
   "metadata": {},
   "source": [
    "# Lending Case Study"
   ]
  },
  {
   "cell_type": "code",
   "execution_count": 255,
   "metadata": {},
   "outputs": [],
   "source": [
    "#Importing the necessary modules\n",
    "import numpy as np\n",
    "import pandas as pd\n",
    "import matplotlib.pyplot as plt\n",
    "import seaborn as sns\n",
    "\n",
    "# Warnings library will be used to ignore warnings\n",
    "import warnings\n",
    "warnings.filterwarnings('ignore')"
   ]
  },
  {
   "cell_type": "code",
   "execution_count": 256,
   "metadata": {},
   "outputs": [
    {
     "data": {
      "text/html": [
       "<div>\n",
       "<style scoped>\n",
       "    .dataframe tbody tr th:only-of-type {\n",
       "        vertical-align: middle;\n",
       "    }\n",
       "\n",
       "    .dataframe tbody tr th {\n",
       "        vertical-align: top;\n",
       "    }\n",
       "\n",
       "    .dataframe thead th {\n",
       "        text-align: right;\n",
       "    }\n",
       "</style>\n",
       "<table border=\"1\" class=\"dataframe\">\n",
       "  <thead>\n",
       "    <tr style=\"text-align: right;\">\n",
       "      <th></th>\n",
       "      <th>id</th>\n",
       "      <th>member_id</th>\n",
       "      <th>loan_amnt</th>\n",
       "      <th>funded_amnt</th>\n",
       "      <th>funded_amnt_inv</th>\n",
       "      <th>term</th>\n",
       "      <th>int_rate</th>\n",
       "      <th>installment</th>\n",
       "      <th>grade</th>\n",
       "      <th>sub_grade</th>\n",
       "      <th>...</th>\n",
       "      <th>num_tl_90g_dpd_24m</th>\n",
       "      <th>num_tl_op_past_12m</th>\n",
       "      <th>pct_tl_nvr_dlq</th>\n",
       "      <th>percent_bc_gt_75</th>\n",
       "      <th>pub_rec_bankruptcies</th>\n",
       "      <th>tax_liens</th>\n",
       "      <th>tot_hi_cred_lim</th>\n",
       "      <th>total_bal_ex_mort</th>\n",
       "      <th>total_bc_limit</th>\n",
       "      <th>total_il_high_credit_limit</th>\n",
       "    </tr>\n",
       "  </thead>\n",
       "  <tbody>\n",
       "    <tr>\n",
       "      <th>0</th>\n",
       "      <td>1077501</td>\n",
       "      <td>1296599</td>\n",
       "      <td>5000</td>\n",
       "      <td>5000</td>\n",
       "      <td>4975.0</td>\n",
       "      <td>36 months</td>\n",
       "      <td>10.65%</td>\n",
       "      <td>162.87</td>\n",
       "      <td>B</td>\n",
       "      <td>B2</td>\n",
       "      <td>...</td>\n",
       "      <td>NaN</td>\n",
       "      <td>NaN</td>\n",
       "      <td>NaN</td>\n",
       "      <td>NaN</td>\n",
       "      <td>0.0</td>\n",
       "      <td>0.0</td>\n",
       "      <td>NaN</td>\n",
       "      <td>NaN</td>\n",
       "      <td>NaN</td>\n",
       "      <td>NaN</td>\n",
       "    </tr>\n",
       "    <tr>\n",
       "      <th>1</th>\n",
       "      <td>1077430</td>\n",
       "      <td>1314167</td>\n",
       "      <td>2500</td>\n",
       "      <td>2500</td>\n",
       "      <td>2500.0</td>\n",
       "      <td>60 months</td>\n",
       "      <td>15.27%</td>\n",
       "      <td>59.83</td>\n",
       "      <td>C</td>\n",
       "      <td>C4</td>\n",
       "      <td>...</td>\n",
       "      <td>NaN</td>\n",
       "      <td>NaN</td>\n",
       "      <td>NaN</td>\n",
       "      <td>NaN</td>\n",
       "      <td>0.0</td>\n",
       "      <td>0.0</td>\n",
       "      <td>NaN</td>\n",
       "      <td>NaN</td>\n",
       "      <td>NaN</td>\n",
       "      <td>NaN</td>\n",
       "    </tr>\n",
       "    <tr>\n",
       "      <th>2</th>\n",
       "      <td>1077175</td>\n",
       "      <td>1313524</td>\n",
       "      <td>2400</td>\n",
       "      <td>2400</td>\n",
       "      <td>2400.0</td>\n",
       "      <td>36 months</td>\n",
       "      <td>15.96%</td>\n",
       "      <td>84.33</td>\n",
       "      <td>C</td>\n",
       "      <td>C5</td>\n",
       "      <td>...</td>\n",
       "      <td>NaN</td>\n",
       "      <td>NaN</td>\n",
       "      <td>NaN</td>\n",
       "      <td>NaN</td>\n",
       "      <td>0.0</td>\n",
       "      <td>0.0</td>\n",
       "      <td>NaN</td>\n",
       "      <td>NaN</td>\n",
       "      <td>NaN</td>\n",
       "      <td>NaN</td>\n",
       "    </tr>\n",
       "    <tr>\n",
       "      <th>3</th>\n",
       "      <td>1076863</td>\n",
       "      <td>1277178</td>\n",
       "      <td>10000</td>\n",
       "      <td>10000</td>\n",
       "      <td>10000.0</td>\n",
       "      <td>36 months</td>\n",
       "      <td>13.49%</td>\n",
       "      <td>339.31</td>\n",
       "      <td>C</td>\n",
       "      <td>C1</td>\n",
       "      <td>...</td>\n",
       "      <td>NaN</td>\n",
       "      <td>NaN</td>\n",
       "      <td>NaN</td>\n",
       "      <td>NaN</td>\n",
       "      <td>0.0</td>\n",
       "      <td>0.0</td>\n",
       "      <td>NaN</td>\n",
       "      <td>NaN</td>\n",
       "      <td>NaN</td>\n",
       "      <td>NaN</td>\n",
       "    </tr>\n",
       "    <tr>\n",
       "      <th>4</th>\n",
       "      <td>1075358</td>\n",
       "      <td>1311748</td>\n",
       "      <td>3000</td>\n",
       "      <td>3000</td>\n",
       "      <td>3000.0</td>\n",
       "      <td>60 months</td>\n",
       "      <td>12.69%</td>\n",
       "      <td>67.79</td>\n",
       "      <td>B</td>\n",
       "      <td>B5</td>\n",
       "      <td>...</td>\n",
       "      <td>NaN</td>\n",
       "      <td>NaN</td>\n",
       "      <td>NaN</td>\n",
       "      <td>NaN</td>\n",
       "      <td>0.0</td>\n",
       "      <td>0.0</td>\n",
       "      <td>NaN</td>\n",
       "      <td>NaN</td>\n",
       "      <td>NaN</td>\n",
       "      <td>NaN</td>\n",
       "    </tr>\n",
       "  </tbody>\n",
       "</table>\n",
       "<p>5 rows × 111 columns</p>\n",
       "</div>"
      ],
      "text/plain": [
       "        id  member_id  loan_amnt  funded_amnt  funded_amnt_inv        term  \\\n",
       "0  1077501    1296599       5000         5000           4975.0   36 months   \n",
       "1  1077430    1314167       2500         2500           2500.0   60 months   \n",
       "2  1077175    1313524       2400         2400           2400.0   36 months   \n",
       "3  1076863    1277178      10000        10000          10000.0   36 months   \n",
       "4  1075358    1311748       3000         3000           3000.0   60 months   \n",
       "\n",
       "  int_rate  installment grade sub_grade  ... num_tl_90g_dpd_24m  \\\n",
       "0   10.65%       162.87     B        B2  ...                NaN   \n",
       "1   15.27%        59.83     C        C4  ...                NaN   \n",
       "2   15.96%        84.33     C        C5  ...                NaN   \n",
       "3   13.49%       339.31     C        C1  ...                NaN   \n",
       "4   12.69%        67.79     B        B5  ...                NaN   \n",
       "\n",
       "  num_tl_op_past_12m pct_tl_nvr_dlq  percent_bc_gt_75 pub_rec_bankruptcies  \\\n",
       "0                NaN            NaN               NaN                  0.0   \n",
       "1                NaN            NaN               NaN                  0.0   \n",
       "2                NaN            NaN               NaN                  0.0   \n",
       "3                NaN            NaN               NaN                  0.0   \n",
       "4                NaN            NaN               NaN                  0.0   \n",
       "\n",
       "  tax_liens tot_hi_cred_lim total_bal_ex_mort total_bc_limit  \\\n",
       "0       0.0             NaN               NaN            NaN   \n",
       "1       0.0             NaN               NaN            NaN   \n",
       "2       0.0             NaN               NaN            NaN   \n",
       "3       0.0             NaN               NaN            NaN   \n",
       "4       0.0             NaN               NaN            NaN   \n",
       "\n",
       "  total_il_high_credit_limit  \n",
       "0                        NaN  \n",
       "1                        NaN  \n",
       "2                        NaN  \n",
       "3                        NaN  \n",
       "4                        NaN  \n",
       "\n",
       "[5 rows x 111 columns]"
      ]
     },
     "execution_count": 256,
     "metadata": {},
     "output_type": "execute_result"
    }
   ],
   "source": [
    "#Loading Dataset into a dataframe\n",
    "# setting the low_memory flag as false as there are 47 columns having mixed types\n",
    "df = pd.read_csv('loan.csv', low_memory=False)\n",
    "df.head()"
   ]
  },
  {
   "cell_type": "code",
   "execution_count": 257,
   "metadata": {},
   "outputs": [
    {
     "data": {
      "text/html": [
       "<div>\n",
       "<style scoped>\n",
       "    .dataframe tbody tr th:only-of-type {\n",
       "        vertical-align: middle;\n",
       "    }\n",
       "\n",
       "    .dataframe tbody tr th {\n",
       "        vertical-align: top;\n",
       "    }\n",
       "\n",
       "    .dataframe thead th {\n",
       "        text-align: right;\n",
       "    }\n",
       "</style>\n",
       "<table border=\"1\" class=\"dataframe\">\n",
       "  <thead>\n",
       "    <tr style=\"text-align: right;\">\n",
       "      <th></th>\n",
       "      <th>LoanStatNew</th>\n",
       "      <th>Description</th>\n",
       "    </tr>\n",
       "  </thead>\n",
       "  <tbody>\n",
       "    <tr>\n",
       "      <th>0</th>\n",
       "      <td>acc_now_delinq</td>\n",
       "      <td>The number of accounts on which the borrower i...</td>\n",
       "    </tr>\n",
       "    <tr>\n",
       "      <th>1</th>\n",
       "      <td>acc_open_past_24mths</td>\n",
       "      <td>Number of trades opened in past 24 months.</td>\n",
       "    </tr>\n",
       "    <tr>\n",
       "      <th>2</th>\n",
       "      <td>addr_state</td>\n",
       "      <td>The state provided by the borrower in the loan...</td>\n",
       "    </tr>\n",
       "    <tr>\n",
       "      <th>3</th>\n",
       "      <td>all_util</td>\n",
       "      <td>Balance to credit limit on all trades</td>\n",
       "    </tr>\n",
       "    <tr>\n",
       "      <th>4</th>\n",
       "      <td>annual_inc</td>\n",
       "      <td>The self-reported annual income provided by th...</td>\n",
       "    </tr>\n",
       "  </tbody>\n",
       "</table>\n",
       "</div>"
      ],
      "text/plain": [
       "            LoanStatNew                                        Description\n",
       "0        acc_now_delinq  The number of accounts on which the borrower i...\n",
       "1  acc_open_past_24mths         Number of trades opened in past 24 months.\n",
       "2            addr_state  The state provided by the borrower in the loan...\n",
       "3              all_util              Balance to credit limit on all trades\n",
       "4            annual_inc  The self-reported annual income provided by th..."
      ]
     },
     "execution_count": 257,
     "metadata": {},
     "output_type": "execute_result"
    }
   ],
   "source": [
    "# Loading the Data Dictionary\n",
    "\n",
    "dd = pd.read_excel('Data_Dictionary.xlsx')\n",
    "\n",
    "dd.head()"
   ]
  },
  {
   "cell_type": "code",
   "execution_count": 258,
   "metadata": {},
   "outputs": [
    {
     "data": {
      "text/plain": [
       "(39717, 111)"
      ]
     },
     "execution_count": 258,
     "metadata": {},
     "output_type": "execute_result"
    }
   ],
   "source": [
    "#Shape of our dataset\n",
    "df.shape"
   ]
  },
  {
   "cell_type": "code",
   "execution_count": 259,
   "metadata": {},
   "outputs": [
    {
     "data": {
      "text/plain": [
       "Index(['id', 'member_id', 'loan_amnt', 'funded_amnt', 'funded_amnt_inv',\n",
       "       'term', 'int_rate', 'installment', 'grade', 'sub_grade',\n",
       "       ...\n",
       "       'num_tl_90g_dpd_24m', 'num_tl_op_past_12m', 'pct_tl_nvr_dlq',\n",
       "       'percent_bc_gt_75', 'pub_rec_bankruptcies', 'tax_liens',\n",
       "       'tot_hi_cred_lim', 'total_bal_ex_mort', 'total_bc_limit',\n",
       "       'total_il_high_credit_limit'],\n",
       "      dtype='object', length=111)"
      ]
     },
     "execution_count": 259,
     "metadata": {},
     "output_type": "execute_result"
    }
   ],
   "source": [
    "df.columns"
   ]
  },
  {
   "cell_type": "markdown",
   "metadata": {},
   "source": [
    "### Knowing our Dataset"
   ]
  },
  {
   "cell_type": "code",
   "execution_count": 260,
   "metadata": {},
   "outputs": [
    {
     "name": "stdout",
     "output_type": "stream",
     "text": [
      "Number of Columns: 111\n",
      "Number of Rows: 39717\n",
      "Number of missing values: 2263366\n",
      "Number of unique values: 416800\n",
      "Number of duplicates: 0\n"
     ]
    }
   ],
   "source": [
    "## Number of rows and columns\n",
    "print('Number of Columns:',df.shape[1])\n",
    "print('Number of Rows:',df.shape[0])\n",
    "\n",
    "## Number of missing values\n",
    "print('Number of missing values:',df.isnull().sum().sum())\n",
    "\n",
    "## Number of unique values\n",
    "print('Number of unique values:',df.nunique().sum())\n",
    "\n",
    "## Number of duplicates\n",
    "print('Number of duplicates:',df.duplicated().sum())"
   ]
  },
  {
   "cell_type": "code",
   "execution_count": 261,
   "metadata": {},
   "outputs": [
    {
     "name": "stdout",
     "output_type": "stream",
     "text": [
      "<class 'pandas.core.frame.DataFrame'>\n",
      "RangeIndex: 39717 entries, 0 to 39716\n",
      "Columns: 111 entries, id to total_il_high_credit_limit\n",
      "dtypes: float64(74), int64(13), object(24)\n",
      "memory usage: 33.6+ MB\n"
     ]
    }
   ],
   "source": [
    "df.info()"
   ]
  },
  {
   "cell_type": "code",
   "execution_count": 262,
   "metadata": {},
   "outputs": [
    {
     "data": {
      "text/plain": [
       "id                              int64\n",
       "member_id                       int64\n",
       "loan_amnt                       int64\n",
       "funded_amnt                     int64\n",
       "funded_amnt_inv               float64\n",
       "                               ...   \n",
       "tax_liens                     float64\n",
       "tot_hi_cred_lim               float64\n",
       "total_bal_ex_mort             float64\n",
       "total_bc_limit                float64\n",
       "total_il_high_credit_limit    float64\n",
       "Length: 111, dtype: object"
      ]
     },
     "execution_count": 262,
     "metadata": {},
     "output_type": "execute_result"
    }
   ],
   "source": [
    "# Knowing Datatypes of each column\n",
    "\n",
    "df.dtypes"
   ]
  },
  {
   "cell_type": "code",
   "execution_count": 263,
   "metadata": {},
   "outputs": [
    {
     "data": {
      "text/html": [
       "<div>\n",
       "<style scoped>\n",
       "    .dataframe tbody tr th:only-of-type {\n",
       "        vertical-align: middle;\n",
       "    }\n",
       "\n",
       "    .dataframe tbody tr th {\n",
       "        vertical-align: top;\n",
       "    }\n",
       "\n",
       "    .dataframe thead th {\n",
       "        text-align: right;\n",
       "    }\n",
       "</style>\n",
       "<table border=\"1\" class=\"dataframe\">\n",
       "  <thead>\n",
       "    <tr style=\"text-align: right;\">\n",
       "      <th></th>\n",
       "      <th>id</th>\n",
       "      <th>member_id</th>\n",
       "      <th>loan_amnt</th>\n",
       "      <th>funded_amnt</th>\n",
       "      <th>funded_amnt_inv</th>\n",
       "      <th>installment</th>\n",
       "      <th>annual_inc</th>\n",
       "      <th>dti</th>\n",
       "      <th>delinq_2yrs</th>\n",
       "      <th>inq_last_6mths</th>\n",
       "      <th>...</th>\n",
       "      <th>num_tl_90g_dpd_24m</th>\n",
       "      <th>num_tl_op_past_12m</th>\n",
       "      <th>pct_tl_nvr_dlq</th>\n",
       "      <th>percent_bc_gt_75</th>\n",
       "      <th>pub_rec_bankruptcies</th>\n",
       "      <th>tax_liens</th>\n",
       "      <th>tot_hi_cred_lim</th>\n",
       "      <th>total_bal_ex_mort</th>\n",
       "      <th>total_bc_limit</th>\n",
       "      <th>total_il_high_credit_limit</th>\n",
       "    </tr>\n",
       "  </thead>\n",
       "  <tbody>\n",
       "    <tr>\n",
       "      <th>count</th>\n",
       "      <td>3.971700e+04</td>\n",
       "      <td>3.971700e+04</td>\n",
       "      <td>39717.000000</td>\n",
       "      <td>39717.000000</td>\n",
       "      <td>39717.000000</td>\n",
       "      <td>39717.000000</td>\n",
       "      <td>3.971700e+04</td>\n",
       "      <td>39717.000000</td>\n",
       "      <td>39717.000000</td>\n",
       "      <td>39717.000000</td>\n",
       "      <td>...</td>\n",
       "      <td>0.0</td>\n",
       "      <td>0.0</td>\n",
       "      <td>0.0</td>\n",
       "      <td>0.0</td>\n",
       "      <td>39020.000000</td>\n",
       "      <td>39678.0</td>\n",
       "      <td>0.0</td>\n",
       "      <td>0.0</td>\n",
       "      <td>0.0</td>\n",
       "      <td>0.0</td>\n",
       "    </tr>\n",
       "    <tr>\n",
       "      <th>mean</th>\n",
       "      <td>6.831319e+05</td>\n",
       "      <td>8.504636e+05</td>\n",
       "      <td>11219.443815</td>\n",
       "      <td>10947.713196</td>\n",
       "      <td>10397.448868</td>\n",
       "      <td>324.561922</td>\n",
       "      <td>6.896893e+04</td>\n",
       "      <td>13.315130</td>\n",
       "      <td>0.146512</td>\n",
       "      <td>0.869200</td>\n",
       "      <td>...</td>\n",
       "      <td>NaN</td>\n",
       "      <td>NaN</td>\n",
       "      <td>NaN</td>\n",
       "      <td>NaN</td>\n",
       "      <td>0.043260</td>\n",
       "      <td>0.0</td>\n",
       "      <td>NaN</td>\n",
       "      <td>NaN</td>\n",
       "      <td>NaN</td>\n",
       "      <td>NaN</td>\n",
       "    </tr>\n",
       "    <tr>\n",
       "      <th>std</th>\n",
       "      <td>2.106941e+05</td>\n",
       "      <td>2.656783e+05</td>\n",
       "      <td>7456.670694</td>\n",
       "      <td>7187.238670</td>\n",
       "      <td>7128.450439</td>\n",
       "      <td>208.874874</td>\n",
       "      <td>6.379377e+04</td>\n",
       "      <td>6.678594</td>\n",
       "      <td>0.491812</td>\n",
       "      <td>1.070219</td>\n",
       "      <td>...</td>\n",
       "      <td>NaN</td>\n",
       "      <td>NaN</td>\n",
       "      <td>NaN</td>\n",
       "      <td>NaN</td>\n",
       "      <td>0.204324</td>\n",
       "      <td>0.0</td>\n",
       "      <td>NaN</td>\n",
       "      <td>NaN</td>\n",
       "      <td>NaN</td>\n",
       "      <td>NaN</td>\n",
       "    </tr>\n",
       "    <tr>\n",
       "      <th>min</th>\n",
       "      <td>5.473400e+04</td>\n",
       "      <td>7.069900e+04</td>\n",
       "      <td>500.000000</td>\n",
       "      <td>500.000000</td>\n",
       "      <td>0.000000</td>\n",
       "      <td>15.690000</td>\n",
       "      <td>4.000000e+03</td>\n",
       "      <td>0.000000</td>\n",
       "      <td>0.000000</td>\n",
       "      <td>0.000000</td>\n",
       "      <td>...</td>\n",
       "      <td>NaN</td>\n",
       "      <td>NaN</td>\n",
       "      <td>NaN</td>\n",
       "      <td>NaN</td>\n",
       "      <td>0.000000</td>\n",
       "      <td>0.0</td>\n",
       "      <td>NaN</td>\n",
       "      <td>NaN</td>\n",
       "      <td>NaN</td>\n",
       "      <td>NaN</td>\n",
       "    </tr>\n",
       "    <tr>\n",
       "      <th>25%</th>\n",
       "      <td>5.162210e+05</td>\n",
       "      <td>6.667800e+05</td>\n",
       "      <td>5500.000000</td>\n",
       "      <td>5400.000000</td>\n",
       "      <td>5000.000000</td>\n",
       "      <td>167.020000</td>\n",
       "      <td>4.040400e+04</td>\n",
       "      <td>8.170000</td>\n",
       "      <td>0.000000</td>\n",
       "      <td>0.000000</td>\n",
       "      <td>...</td>\n",
       "      <td>NaN</td>\n",
       "      <td>NaN</td>\n",
       "      <td>NaN</td>\n",
       "      <td>NaN</td>\n",
       "      <td>0.000000</td>\n",
       "      <td>0.0</td>\n",
       "      <td>NaN</td>\n",
       "      <td>NaN</td>\n",
       "      <td>NaN</td>\n",
       "      <td>NaN</td>\n",
       "    </tr>\n",
       "    <tr>\n",
       "      <th>50%</th>\n",
       "      <td>6.656650e+05</td>\n",
       "      <td>8.508120e+05</td>\n",
       "      <td>10000.000000</td>\n",
       "      <td>9600.000000</td>\n",
       "      <td>8975.000000</td>\n",
       "      <td>280.220000</td>\n",
       "      <td>5.900000e+04</td>\n",
       "      <td>13.400000</td>\n",
       "      <td>0.000000</td>\n",
       "      <td>1.000000</td>\n",
       "      <td>...</td>\n",
       "      <td>NaN</td>\n",
       "      <td>NaN</td>\n",
       "      <td>NaN</td>\n",
       "      <td>NaN</td>\n",
       "      <td>0.000000</td>\n",
       "      <td>0.0</td>\n",
       "      <td>NaN</td>\n",
       "      <td>NaN</td>\n",
       "      <td>NaN</td>\n",
       "      <td>NaN</td>\n",
       "    </tr>\n",
       "    <tr>\n",
       "      <th>75%</th>\n",
       "      <td>8.377550e+05</td>\n",
       "      <td>1.047339e+06</td>\n",
       "      <td>15000.000000</td>\n",
       "      <td>15000.000000</td>\n",
       "      <td>14400.000000</td>\n",
       "      <td>430.780000</td>\n",
       "      <td>8.230000e+04</td>\n",
       "      <td>18.600000</td>\n",
       "      <td>0.000000</td>\n",
       "      <td>1.000000</td>\n",
       "      <td>...</td>\n",
       "      <td>NaN</td>\n",
       "      <td>NaN</td>\n",
       "      <td>NaN</td>\n",
       "      <td>NaN</td>\n",
       "      <td>0.000000</td>\n",
       "      <td>0.0</td>\n",
       "      <td>NaN</td>\n",
       "      <td>NaN</td>\n",
       "      <td>NaN</td>\n",
       "      <td>NaN</td>\n",
       "    </tr>\n",
       "    <tr>\n",
       "      <th>max</th>\n",
       "      <td>1.077501e+06</td>\n",
       "      <td>1.314167e+06</td>\n",
       "      <td>35000.000000</td>\n",
       "      <td>35000.000000</td>\n",
       "      <td>35000.000000</td>\n",
       "      <td>1305.190000</td>\n",
       "      <td>6.000000e+06</td>\n",
       "      <td>29.990000</td>\n",
       "      <td>11.000000</td>\n",
       "      <td>8.000000</td>\n",
       "      <td>...</td>\n",
       "      <td>NaN</td>\n",
       "      <td>NaN</td>\n",
       "      <td>NaN</td>\n",
       "      <td>NaN</td>\n",
       "      <td>2.000000</td>\n",
       "      <td>0.0</td>\n",
       "      <td>NaN</td>\n",
       "      <td>NaN</td>\n",
       "      <td>NaN</td>\n",
       "      <td>NaN</td>\n",
       "    </tr>\n",
       "  </tbody>\n",
       "</table>\n",
       "<p>8 rows × 87 columns</p>\n",
       "</div>"
      ],
      "text/plain": [
       "                 id     member_id     loan_amnt   funded_amnt  \\\n",
       "count  3.971700e+04  3.971700e+04  39717.000000  39717.000000   \n",
       "mean   6.831319e+05  8.504636e+05  11219.443815  10947.713196   \n",
       "std    2.106941e+05  2.656783e+05   7456.670694   7187.238670   \n",
       "min    5.473400e+04  7.069900e+04    500.000000    500.000000   \n",
       "25%    5.162210e+05  6.667800e+05   5500.000000   5400.000000   \n",
       "50%    6.656650e+05  8.508120e+05  10000.000000   9600.000000   \n",
       "75%    8.377550e+05  1.047339e+06  15000.000000  15000.000000   \n",
       "max    1.077501e+06  1.314167e+06  35000.000000  35000.000000   \n",
       "\n",
       "       funded_amnt_inv   installment    annual_inc           dti  \\\n",
       "count     39717.000000  39717.000000  3.971700e+04  39717.000000   \n",
       "mean      10397.448868    324.561922  6.896893e+04     13.315130   \n",
       "std        7128.450439    208.874874  6.379377e+04      6.678594   \n",
       "min           0.000000     15.690000  4.000000e+03      0.000000   \n",
       "25%        5000.000000    167.020000  4.040400e+04      8.170000   \n",
       "50%        8975.000000    280.220000  5.900000e+04     13.400000   \n",
       "75%       14400.000000    430.780000  8.230000e+04     18.600000   \n",
       "max       35000.000000   1305.190000  6.000000e+06     29.990000   \n",
       "\n",
       "        delinq_2yrs  inq_last_6mths  ...  num_tl_90g_dpd_24m  \\\n",
       "count  39717.000000    39717.000000  ...                 0.0   \n",
       "mean       0.146512        0.869200  ...                 NaN   \n",
       "std        0.491812        1.070219  ...                 NaN   \n",
       "min        0.000000        0.000000  ...                 NaN   \n",
       "25%        0.000000        0.000000  ...                 NaN   \n",
       "50%        0.000000        1.000000  ...                 NaN   \n",
       "75%        0.000000        1.000000  ...                 NaN   \n",
       "max       11.000000        8.000000  ...                 NaN   \n",
       "\n",
       "       num_tl_op_past_12m  pct_tl_nvr_dlq  percent_bc_gt_75  \\\n",
       "count                 0.0             0.0               0.0   \n",
       "mean                  NaN             NaN               NaN   \n",
       "std                   NaN             NaN               NaN   \n",
       "min                   NaN             NaN               NaN   \n",
       "25%                   NaN             NaN               NaN   \n",
       "50%                   NaN             NaN               NaN   \n",
       "75%                   NaN             NaN               NaN   \n",
       "max                   NaN             NaN               NaN   \n",
       "\n",
       "       pub_rec_bankruptcies  tax_liens  tot_hi_cred_lim  total_bal_ex_mort  \\\n",
       "count          39020.000000    39678.0              0.0                0.0   \n",
       "mean               0.043260        0.0              NaN                NaN   \n",
       "std                0.204324        0.0              NaN                NaN   \n",
       "min                0.000000        0.0              NaN                NaN   \n",
       "25%                0.000000        0.0              NaN                NaN   \n",
       "50%                0.000000        0.0              NaN                NaN   \n",
       "75%                0.000000        0.0              NaN                NaN   \n",
       "max                2.000000        0.0              NaN                NaN   \n",
       "\n",
       "       total_bc_limit  total_il_high_credit_limit  \n",
       "count             0.0                         0.0  \n",
       "mean              NaN                         NaN  \n",
       "std               NaN                         NaN  \n",
       "min               NaN                         NaN  \n",
       "25%               NaN                         NaN  \n",
       "50%               NaN                         NaN  \n",
       "75%               NaN                         NaN  \n",
       "max               NaN                         NaN  \n",
       "\n",
       "[8 rows x 87 columns]"
      ]
     },
     "execution_count": 263,
     "metadata": {},
     "output_type": "execute_result"
    }
   ],
   "source": [
    "# Bird's Eye view on our data set\n",
    "df.describe()"
   ]
  },
  {
   "cell_type": "markdown",
   "metadata": {},
   "source": [
    "## Data Understanding"
   ]
  },
  {
   "cell_type": "markdown",
   "metadata": {},
   "source": [
    "As we know our goal is to analyse the loan applicants which are likely to default and would be financial loss to the lending club.\n",
    "Hence the columns having data, after the loan was approved does not have any relevance to our analysis\n",
    "\n",
    "Following are the columns which have no relevance to our analysis as they have data, after the loan was approved\n",
    "\n",
    "- delinq_2yrs - The number of 30+ days past-due incidences of delinquency in the borrower's credit file for the past 2 years\n",
    "- earliest_cr_line - The month the borrower's earliest reported credit line was opened\n",
    "- inq_last_6mths - The number of inquiries in past 6 months (excluding auto and mortgage inquiries)\n",
    "- open_acc - The number of open credit lines in the borrower's credit file.\n",
    "- pub_rec - Number of derogatory public records\n",
    "- revol_bal - Total credit revolving balance\n",
    "- revol_util - Revolving line utilization rate, or the amount of credit the borrower is using relative to all available revolving credit.\n",
    "- total_acc - The total number of credit lines currently in the borrower's credit file\n",
    "- out_prncp - Remaining outstanding principal for total amount funded\n",
    "- out_prncp_inv - Remaining outstanding principal for portion of total amount funded by investors\n",
    "- total_pymnt - Payments received to date for total amount funded\n",
    "- total_pymnt_inv - Payments received to date for portion of total amount funded by investors\n",
    "- total_rec_prncp - Principal received to date\n",
    "- total_rec_int - Interest received to date\n",
    "- total_rec_late_fee - Late fees received to date\n",
    "- recoveries - post charge off gross recovery\n",
    "- collection_recovery_fee - post charge off collection fee\n",
    "- last_pymnt_d - Last month payment was received\n",
    "- last_pymnt_amnt - Last total payment amount received\n",
    "- last_credit_pull_d - The most recent month LC pulled credit for this loan\n",
    "- application_type - Indicates whether the loan is an individual application or a joint application with two co-borrowers"
   ]
  },
  {
   "cell_type": "code",
   "execution_count": 264,
   "metadata": {},
   "outputs": [],
   "source": [
    "df=df.drop(['delinq_2yrs','earliest_cr_line','inq_last_6mths','open_acc','pub_rec','revol_bal','revol_util','total_acc','out_prncp','out_prncp_inv','total_pymnt','total_pymnt_inv','total_rec_prncp','total_rec_int','total_rec_late_fee','recoveries','collection_recovery_fee','last_pymnt_d','last_pymnt_amnt','last_credit_pull_d','application_type'],axis=1)\n"
   ]
  },
  {
   "cell_type": "code",
   "execution_count": 265,
   "metadata": {},
   "outputs": [
    {
     "data": {
      "text/plain": [
       "(39717, 90)"
      ]
     },
     "execution_count": 265,
     "metadata": {},
     "output_type": "execute_result"
    }
   ],
   "source": [
    "df.shape"
   ]
  },
  {
   "cell_type": "code",
   "execution_count": 266,
   "metadata": {},
   "outputs": [
    {
     "data": {
      "text/plain": [
       "0        860xx\n",
       "1        309xx\n",
       "2        606xx\n",
       "3        917xx\n",
       "4        972xx\n",
       "         ...  \n",
       "39712    802xx\n",
       "39713    274xx\n",
       "39714    017xx\n",
       "39715    208xx\n",
       "39716    027xx\n",
       "Name: zip_code, Length: 39717, dtype: object"
      ]
     },
     "execution_count": 266,
     "metadata": {},
     "output_type": "execute_result"
    }
   ],
   "source": [
    "df.zip_code"
   ]
  },
  {
   "cell_type": "markdown",
   "metadata": {},
   "source": [
    "Zip code is having masked data hence it is of no use to us and should be removed"
   ]
  },
  {
   "cell_type": "code",
   "execution_count": 267,
   "metadata": {},
   "outputs": [],
   "source": [
    "df=df.drop(['zip_code'],axis=1)"
   ]
  },
  {
   "cell_type": "code",
   "execution_count": 268,
   "metadata": {},
   "outputs": [
    {
     "data": {
      "text/plain": [
       "(39717, 89)"
      ]
     },
     "execution_count": 268,
     "metadata": {},
     "output_type": "execute_result"
    }
   ],
   "source": [
    "df.shape"
   ]
  },
  {
   "cell_type": "code",
   "execution_count": 269,
   "metadata": {},
   "outputs": [
    {
     "data": {
      "text/html": [
       "<div>\n",
       "<style scoped>\n",
       "    .dataframe tbody tr th:only-of-type {\n",
       "        vertical-align: middle;\n",
       "    }\n",
       "\n",
       "    .dataframe tbody tr th {\n",
       "        vertical-align: top;\n",
       "    }\n",
       "\n",
       "    .dataframe thead th {\n",
       "        text-align: right;\n",
       "    }\n",
       "</style>\n",
       "<table border=\"1\" class=\"dataframe\">\n",
       "  <thead>\n",
       "    <tr style=\"text-align: right;\">\n",
       "      <th></th>\n",
       "      <th>title</th>\n",
       "      <th>emp_title</th>\n",
       "      <th>desc</th>\n",
       "      <th>url</th>\n",
       "    </tr>\n",
       "  </thead>\n",
       "  <tbody>\n",
       "    <tr>\n",
       "      <th>0</th>\n",
       "      <td>Computer</td>\n",
       "      <td>NaN</td>\n",
       "      <td>Borrower added on 12/22/11 &gt; I need to upgra...</td>\n",
       "      <td>https://lendingclub.com/browse/loanDetail.acti...</td>\n",
       "    </tr>\n",
       "    <tr>\n",
       "      <th>1</th>\n",
       "      <td>bike</td>\n",
       "      <td>Ryder</td>\n",
       "      <td>Borrower added on 12/22/11 &gt; I plan to use t...</td>\n",
       "      <td>https://lendingclub.com/browse/loanDetail.acti...</td>\n",
       "    </tr>\n",
       "    <tr>\n",
       "      <th>2</th>\n",
       "      <td>real estate business</td>\n",
       "      <td>NaN</td>\n",
       "      <td>NaN</td>\n",
       "      <td>https://lendingclub.com/browse/loanDetail.acti...</td>\n",
       "    </tr>\n",
       "    <tr>\n",
       "      <th>3</th>\n",
       "      <td>personel</td>\n",
       "      <td>AIR RESOURCES BOARD</td>\n",
       "      <td>Borrower added on 12/21/11 &gt; to pay for prop...</td>\n",
       "      <td>https://lendingclub.com/browse/loanDetail.acti...</td>\n",
       "    </tr>\n",
       "    <tr>\n",
       "      <th>4</th>\n",
       "      <td>Personal</td>\n",
       "      <td>University Medical Group</td>\n",
       "      <td>Borrower added on 12/21/11 &gt; I plan on combi...</td>\n",
       "      <td>https://lendingclub.com/browse/loanDetail.acti...</td>\n",
       "    </tr>\n",
       "    <tr>\n",
       "      <th>...</th>\n",
       "      <td>...</td>\n",
       "      <td>...</td>\n",
       "      <td>...</td>\n",
       "      <td>...</td>\n",
       "    </tr>\n",
       "    <tr>\n",
       "      <th>39712</th>\n",
       "      <td>Home Improvement</td>\n",
       "      <td>FiSite Research</td>\n",
       "      <td>Our current gutter system on our home is old a...</td>\n",
       "      <td>https://lendingclub.com/browse/loanDetail.acti...</td>\n",
       "    </tr>\n",
       "    <tr>\n",
       "      <th>39713</th>\n",
       "      <td>Retiring credit card debt</td>\n",
       "      <td>Squarewave Solutions, Ltd.</td>\n",
       "      <td>The rate of interest and fees incurred by carr...</td>\n",
       "      <td>https://lendingclub.com/browse/loanDetail.acti...</td>\n",
       "    </tr>\n",
       "    <tr>\n",
       "      <th>39714</th>\n",
       "      <td>MBA Loan Consolidation</td>\n",
       "      <td>NaN</td>\n",
       "      <td>NaN</td>\n",
       "      <td>https://lendingclub.com/browse/loanDetail.acti...</td>\n",
       "    </tr>\n",
       "    <tr>\n",
       "      <th>39715</th>\n",
       "      <td>JAL Loan</td>\n",
       "      <td>NaN</td>\n",
       "      <td>NaN</td>\n",
       "      <td>https://lendingclub.com/browse/loanDetail.acti...</td>\n",
       "    </tr>\n",
       "    <tr>\n",
       "      <th>39716</th>\n",
       "      <td>Consolidation Loan</td>\n",
       "      <td>Evergreen Center</td>\n",
       "      <td>I plan to consolidate over $7,000 of debt: a c...</td>\n",
       "      <td>https://lendingclub.com/browse/loanDetail.acti...</td>\n",
       "    </tr>\n",
       "  </tbody>\n",
       "</table>\n",
       "<p>39717 rows × 4 columns</p>\n",
       "</div>"
      ],
      "text/plain": [
       "                           title                   emp_title  \\\n",
       "0                       Computer                         NaN   \n",
       "1                           bike                       Ryder   \n",
       "2           real estate business                         NaN   \n",
       "3                       personel         AIR RESOURCES BOARD   \n",
       "4                       Personal    University Medical Group   \n",
       "...                          ...                         ...   \n",
       "39712           Home Improvement             FiSite Research   \n",
       "39713  Retiring credit card debt  Squarewave Solutions, Ltd.   \n",
       "39714     MBA Loan Consolidation                         NaN   \n",
       "39715                   JAL Loan                         NaN   \n",
       "39716         Consolidation Loan            Evergreen Center   \n",
       "\n",
       "                                                    desc  \\\n",
       "0        Borrower added on 12/22/11 > I need to upgra...   \n",
       "1        Borrower added on 12/22/11 > I plan to use t...   \n",
       "2                                                    NaN   \n",
       "3        Borrower added on 12/21/11 > to pay for prop...   \n",
       "4        Borrower added on 12/21/11 > I plan on combi...   \n",
       "...                                                  ...   \n",
       "39712  Our current gutter system on our home is old a...   \n",
       "39713  The rate of interest and fees incurred by carr...   \n",
       "39714                                                NaN   \n",
       "39715                                                NaN   \n",
       "39716  I plan to consolidate over $7,000 of debt: a c...   \n",
       "\n",
       "                                                     url  \n",
       "0      https://lendingclub.com/browse/loanDetail.acti...  \n",
       "1      https://lendingclub.com/browse/loanDetail.acti...  \n",
       "2      https://lendingclub.com/browse/loanDetail.acti...  \n",
       "3      https://lendingclub.com/browse/loanDetail.acti...  \n",
       "4      https://lendingclub.com/browse/loanDetail.acti...  \n",
       "...                                                  ...  \n",
       "39712  https://lendingclub.com/browse/loanDetail.acti...  \n",
       "39713  https://lendingclub.com/browse/loanDetail.acti...  \n",
       "39714  https://lendingclub.com/browse/loanDetail.acti...  \n",
       "39715  https://lendingclub.com/browse/loanDetail.acti...  \n",
       "39716  https://lendingclub.com/browse/loanDetail.acti...  \n",
       "\n",
       "[39717 rows x 4 columns]"
      ]
     },
     "execution_count": 269,
     "metadata": {},
     "output_type": "execute_result"
    }
   ],
   "source": [
    "df[['title','emp_title','desc','url']]"
   ]
  },
  {
   "cell_type": "markdown",
   "metadata": {},
   "source": [
    "As we can see above, these columns are having random values and we wont be able to draw any analysis on it, hence should be removed"
   ]
  },
  {
   "cell_type": "code",
   "execution_count": 270,
   "metadata": {},
   "outputs": [],
   "source": [
    "df=df.drop(['title','emp_title','desc','url'],axis=1)"
   ]
  },
  {
   "cell_type": "code",
   "execution_count": 271,
   "metadata": {},
   "outputs": [
    {
     "data": {
      "text/plain": [
       "(39717, 85)"
      ]
     },
     "execution_count": 271,
     "metadata": {},
     "output_type": "execute_result"
    }
   ],
   "source": [
    "df.shape"
   ]
  },
  {
   "cell_type": "code",
   "execution_count": 272,
   "metadata": {},
   "outputs": [],
   "source": [
    "# Since member id is a duplicate index column and should be removed\n",
    "df=df.drop(['member_id'], axis=1)"
   ]
  },
  {
   "cell_type": "code",
   "execution_count": 273,
   "metadata": {},
   "outputs": [
    {
     "data": {
      "text/plain": [
       "(39717, 84)"
      ]
     },
     "execution_count": 273,
     "metadata": {},
     "output_type": "execute_result"
    }
   ],
   "source": [
    "df.shape"
   ]
  },
  {
   "cell_type": "markdown",
   "metadata": {},
   "source": [
    "Removing Funded Amount column i.e funded_amnt_inv as its for internal purposes only, hence insignificant to our analysis"
   ]
  },
  {
   "cell_type": "code",
   "execution_count": 274,
   "metadata": {},
   "outputs": [],
   "source": [
    "df=df.drop(['funded_amnt_inv'], axis=1)"
   ]
  },
  {
   "cell_type": "code",
   "execution_count": 275,
   "metadata": {},
   "outputs": [
    {
     "data": {
      "text/plain": [
       "(39717, 83)"
      ]
     },
     "execution_count": 275,
     "metadata": {},
     "output_type": "execute_result"
    }
   ],
   "source": [
    "df.shape"
   ]
  },
  {
   "cell_type": "markdown",
   "metadata": {},
   "source": [
    "## Data Cleaning"
   ]
  },
  {
   "cell_type": "markdown",
   "metadata": {},
   "source": [
    "#### Cleaning the Rows and columns having large number of null values"
   ]
  },
  {
   "cell_type": "code",
   "execution_count": 276,
   "metadata": {},
   "outputs": [],
   "source": [
    "#counting the percentage of null values in each column\n",
    "null_count=df.isnull().sum()\n",
    "length=len(df.index)\n",
    "\n",
    "total_null_percent=round((null_count/length)*100,2)\n"
   ]
  },
  {
   "cell_type": "code",
   "execution_count": 277,
   "metadata": {},
   "outputs": [
    {
     "data": {
      "text/plain": [
       "emp_length                      2.71\n",
       "mths_since_last_delinq         64.66\n",
       "mths_since_last_record         92.99\n",
       "next_pymnt_d                   97.13\n",
       "collections_12_mths_ex_med      0.14\n",
       "                               ...  \n",
       "tax_liens                       0.10\n",
       "tot_hi_cred_lim               100.00\n",
       "total_bal_ex_mort             100.00\n",
       "total_bc_limit                100.00\n",
       "total_il_high_credit_limit    100.00\n",
       "Length: 62, dtype: float64"
      ]
     },
     "execution_count": 277,
     "metadata": {},
     "output_type": "execute_result"
    }
   ],
   "source": [
    "total_null_percent[total_null_percent>0]"
   ]
  },
  {
   "cell_type": "code",
   "execution_count": 278,
   "metadata": {},
   "outputs": [
    {
     "data": {
      "text/plain": [
       "57"
      ]
     },
     "execution_count": 278,
     "metadata": {},
     "output_type": "execute_result"
    }
   ],
   "source": [
    "#We can see there are 68 columns which are having some missing values\n",
    "# Now we do not intend to drop all of them, instead we will only drop the columns which are having more than 50% of missing values\n",
    "len(total_null_percent[total_null_percent>50])"
   ]
  },
  {
   "cell_type": "code",
   "execution_count": 279,
   "metadata": {},
   "outputs": [],
   "source": [
    "# Dropping the 58 columns in our dataset which have more than 50% of missing values\n",
    "df.drop(total_null_percent[ total_null_percent > 50 ].index, axis=1, inplace=True)"
   ]
  },
  {
   "cell_type": "code",
   "execution_count": 280,
   "metadata": {},
   "outputs": [
    {
     "data": {
      "text/plain": [
       "(39717, 26)"
      ]
     },
     "execution_count": 280,
     "metadata": {},
     "output_type": "execute_result"
    }
   ],
   "source": [
    "df.shape"
   ]
  },
  {
   "cell_type": "code",
   "execution_count": 281,
   "metadata": {},
   "outputs": [
    {
     "data": {
      "text/plain": [
       "emp_length                    2.71\n",
       "pub_rec_bankruptcies          1.75\n",
       "chargeoff_within_12_mths      0.14\n",
       "collections_12_mths_ex_med    0.14\n",
       "tax_liens                     0.10\n",
       "pymnt_plan                    0.00\n",
       "delinq_amnt                   0.00\n",
       "acc_now_delinq                0.00\n",
       "policy_code                   0.00\n",
       "initial_list_status           0.00\n",
       "dti                           0.00\n",
       "addr_state                    0.00\n",
       "purpose                       0.00\n",
       "id                            0.00\n",
       "loan_amnt                     0.00\n",
       "issue_d                       0.00\n",
       "verification_status           0.00\n",
       "annual_inc                    0.00\n",
       "home_ownership                0.00\n",
       "sub_grade                     0.00\n",
       "grade                         0.00\n",
       "installment                   0.00\n",
       "int_rate                      0.00\n",
       "term                          0.00\n",
       "funded_amnt                   0.00\n",
       "loan_status                   0.00\n",
       "dtype: float64"
      ]
     },
     "execution_count": 281,
     "metadata": {},
     "output_type": "execute_result"
    }
   ],
   "source": [
    "#Verifying the columns cleaned of null values\n",
    "\n",
    "(df.isnull().sum()/len(df.index)*100).round(2).sort_values(ascending=False)"
   ]
  },
  {
   "cell_type": "markdown",
   "metadata": {},
   "source": [
    "Now we have removed the columns which contained more than 50% missing values as they would've reduce impacted the accuracy of the analysis."
   ]
  },
  {
   "cell_type": "code",
   "execution_count": 282,
   "metadata": {},
   "outputs": [
    {
     "data": {
      "text/plain": [
       "Index(['id', 'loan_amnt', 'funded_amnt', 'term', 'int_rate', 'installment',\n",
       "       'grade', 'sub_grade', 'emp_length', 'home_ownership', 'annual_inc',\n",
       "       'verification_status', 'issue_d', 'loan_status', 'pymnt_plan',\n",
       "       'purpose', 'addr_state', 'dti', 'initial_list_status',\n",
       "       'collections_12_mths_ex_med', 'policy_code', 'acc_now_delinq',\n",
       "       'chargeoff_within_12_mths', 'delinq_amnt', 'pub_rec_bankruptcies',\n",
       "       'tax_liens'],\n",
       "      dtype='object')"
      ]
     },
     "execution_count": 282,
     "metadata": {},
     "output_type": "execute_result"
    }
   ],
   "source": [
    "df.columns"
   ]
  },
  {
   "cell_type": "code",
   "execution_count": 283,
   "metadata": {},
   "outputs": [
    {
     "data": {
      "text/plain": [
       "39716    4\n",
       "39687    4\n",
       "39694    4\n",
       "39693    4\n",
       "39692    4\n",
       "        ..\n",
       "13477    0\n",
       "13478    0\n",
       "13479    0\n",
       "13480    0\n",
       "19858    0\n",
       "Length: 39717, dtype: int64"
      ]
     },
     "execution_count": 283,
     "metadata": {},
     "output_type": "execute_result"
    }
   ],
   "source": [
    "# Finding the number of missing values in rows\n",
    "df.isnull().sum(axis=1).sort_values(ascending=False)"
   ]
  },
  {
   "cell_type": "markdown",
   "metadata": {},
   "source": [
    "Maximum number of missing values in a row is 6 which is very low, hence removing them would be insignificant for our analysis. Lets move ahead"
   ]
  },
  {
   "cell_type": "markdown",
   "metadata": {},
   "source": [
    "Now columns which are having only one unique value are also insignificant to our analysis as neither univariate nor bivariate analysis can be performed on them, hence should be removed"
   ]
  },
  {
   "cell_type": "code",
   "execution_count": 284,
   "metadata": {},
   "outputs": [
    {
     "data": {
      "text/plain": [
       "tax_liens                         1\n",
       "pymnt_plan                        1\n",
       "collections_12_mths_ex_med        1\n",
       "policy_code                       1\n",
       "initial_list_status               1\n",
       "chargeoff_within_12_mths          1\n",
       "delinq_amnt                       1\n",
       "acc_now_delinq                    1\n",
       "term                              2\n",
       "verification_status               3\n",
       "pub_rec_bankruptcies              3\n",
       "loan_status                       3\n",
       "home_ownership                    5\n",
       "grade                             7\n",
       "emp_length                       11\n",
       "purpose                          14\n",
       "sub_grade                        35\n",
       "addr_state                       50\n",
       "issue_d                          55\n",
       "int_rate                        371\n",
       "loan_amnt                       885\n",
       "funded_amnt                    1041\n",
       "dti                            2868\n",
       "annual_inc                     5318\n",
       "installment                   15383\n",
       "id                            39717\n",
       "dtype: int64"
      ]
     },
     "execution_count": 284,
     "metadata": {},
     "output_type": "execute_result"
    }
   ],
   "source": [
    "df.nunique().sort_values()"
   ]
  },
  {
   "cell_type": "markdown",
   "metadata": {},
   "source": [
    "These are the columns which should be removed as they are having only one unique value\n",
    "\n",
    "tax_liens                         \n",
    "pymnt_plan                        \n",
    "collections_12_mths_ex_med        \n",
    "policy_code                       \n",
    "initial_list_status               \n",
    "chargeoff_within_12_mths          \n",
    "delinq_amnt                       \n",
    "acc_now_delinq                    "
   ]
  },
  {
   "cell_type": "code",
   "execution_count": 285,
   "metadata": {},
   "outputs": [],
   "source": [
    "df.drop(['tax_liens', 'delinq_amnt', 'chargeoff_within_12_mths', 'acc_now_delinq', 'policy_code', 'collections_12_mths_ex_med', 'initial_list_status', 'pymnt_plan'],\n",
    "         axis=1, inplace=True)"
   ]
  },
  {
   "cell_type": "markdown",
   "metadata": {},
   "source": []
  },
  {
   "cell_type": "code",
   "execution_count": 286,
   "metadata": {},
   "outputs": [
    {
     "data": {
      "text/plain": [
       "(39717, 18)"
      ]
     },
     "execution_count": 286,
     "metadata": {},
     "output_type": "execute_result"
    }
   ],
   "source": [
    "df.shape"
   ]
  },
  {
   "cell_type": "code",
   "execution_count": 287,
   "metadata": {},
   "outputs": [
    {
     "data": {
      "text/plain": [
       "Index(['id', 'loan_amnt', 'funded_amnt', 'term', 'int_rate', 'installment',\n",
       "       'grade', 'sub_grade', 'emp_length', 'home_ownership', 'annual_inc',\n",
       "       'verification_status', 'issue_d', 'loan_status', 'purpose',\n",
       "       'addr_state', 'dti', 'pub_rec_bankruptcies'],\n",
       "      dtype='object')"
      ]
     },
     "execution_count": 287,
     "metadata": {},
     "output_type": "execute_result"
    }
   ],
   "source": [
    "df.columns"
   ]
  },
  {
   "cell_type": "markdown",
   "metadata": {},
   "source": [
    "Now that we have the relevant columns for our analysis, we should move further to clean our data of null or missing values\n"
   ]
  },
  {
   "cell_type": "markdown",
   "metadata": {},
   "source": [
    "#### Handling Null Values"
   ]
  },
  {
   "cell_type": "code",
   "execution_count": 288,
   "metadata": {},
   "outputs": [
    {
     "data": {
      "text/plain": [
       "emp_length              1075\n",
       "pub_rec_bankruptcies     697\n",
       "annual_inc                 0\n",
       "dti                        0\n",
       "addr_state                 0\n",
       "purpose                    0\n",
       "loan_status                0\n",
       "issue_d                    0\n",
       "verification_status        0\n",
       "id                         0\n",
       "loan_amnt                  0\n",
       "sub_grade                  0\n",
       "grade                      0\n",
       "installment                0\n",
       "int_rate                   0\n",
       "term                       0\n",
       "funded_amnt                0\n",
       "home_ownership             0\n",
       "dtype: int64"
      ]
     },
     "execution_count": 288,
     "metadata": {},
     "output_type": "execute_result"
    }
   ],
   "source": [
    "# Counting the missing or null values in each column\n",
    "df.isnull().sum().sort_values(ascending=False)"
   ]
  },
  {
   "cell_type": "markdown",
   "metadata": {},
   "source": [
    "Following are the two columns with null values, which needs to be handled as per our analysis objective\n",
    "\n",
    "- emp_length              \n",
    "- pub_rec_bankruptcies     "
   ]
  },
  {
   "cell_type": "code",
   "execution_count": 289,
   "metadata": {},
   "outputs": [
    {
     "data": {
      "text/plain": [
       "emp_length\n",
       "10+ years    8879\n",
       "< 1 year     4583\n",
       "2 years      4388\n",
       "3 years      4095\n",
       "4 years      3436\n",
       "5 years      3282\n",
       "1 year       3240\n",
       "6 years      2229\n",
       "7 years      1773\n",
       "8 years      1479\n",
       "9 years      1258\n",
       "Name: count, dtype: int64"
      ]
     },
     "execution_count": 289,
     "metadata": {},
     "output_type": "execute_result"
    }
   ],
   "source": [
    "#Analysing the emp_length column\n",
    "df.emp_length.value_counts()"
   ]
  },
  {
   "cell_type": "code",
   "execution_count": 290,
   "metadata": {},
   "outputs": [
    {
     "data": {
      "text/plain": [
       "pub_rec_bankruptcies\n",
       "0.0    37339\n",
       "1.0     1674\n",
       "2.0        7\n",
       "Name: count, dtype: int64"
      ]
     },
     "execution_count": 290,
     "metadata": {},
     "output_type": "execute_result"
    }
   ],
   "source": [
    "#Analysing the pub_rec_bankruptcies column\n",
    "df.pub_rec_bankruptcies.value_counts()"
   ]
  },
  {
   "cell_type": "markdown",
   "metadata": {},
   "source": [
    "We can come to this conclusion that for 'emp_lenngth', no other value can be substituted as the distribution is fair, hence removing the null values would be the best approach\n",
    "\n",
    "For 'pub_rec_bankruptcies' as mostly all the values are 0.0, hence subtituting 0.0 in place of missing values would be the best approach and it would not impact our analysis"
   ]
  },
  {
   "cell_type": "code",
   "execution_count": 291,
   "metadata": {},
   "outputs": [],
   "source": [
    "df.dropna(subset=['emp_length'],inplace=True)"
   ]
  },
  {
   "cell_type": "code",
   "execution_count": 292,
   "metadata": {},
   "outputs": [
    {
     "data": {
      "text/plain": [
       "(38642, 18)"
      ]
     },
     "execution_count": 292,
     "metadata": {},
     "output_type": "execute_result"
    }
   ],
   "source": [
    "df.shape"
   ]
  },
  {
   "cell_type": "code",
   "execution_count": 293,
   "metadata": {},
   "outputs": [],
   "source": [
    "# Inserting 0 for null values in pub_rec_bankruptcies column\n",
    "df.pub_rec_bankruptcies.fillna(0,inplace=True)"
   ]
  },
  {
   "cell_type": "code",
   "execution_count": 294,
   "metadata": {},
   "outputs": [
    {
     "data": {
      "text/plain": [
       "(38642, 18)"
      ]
     },
     "execution_count": 294,
     "metadata": {},
     "output_type": "execute_result"
    }
   ],
   "source": [
    "df.shape"
   ]
  },
  {
   "cell_type": "markdown",
   "metadata": {},
   "source": [
    "#### Handling Duplicate Rows"
   ]
  },
  {
   "cell_type": "code",
   "execution_count": 295,
   "metadata": {},
   "outputs": [
    {
     "data": {
      "text/plain": [
       "0"
      ]
     },
     "execution_count": 295,
     "metadata": {},
     "output_type": "execute_result"
    }
   ],
   "source": [
    "df.duplicated().sum()"
   ]
  },
  {
   "cell_type": "markdown",
   "metadata": {},
   "source": [
    "Observation - There were no duplicate rows in our dataset"
   ]
  },
  {
   "cell_type": "markdown",
   "metadata": {},
   "source": [
    "#### Handling Data Types of Columns"
   ]
  },
  {
   "cell_type": "code",
   "execution_count": 296,
   "metadata": {},
   "outputs": [
    {
     "name": "stdout",
     "output_type": "stream",
     "text": [
      "<class 'pandas.core.frame.DataFrame'>\n",
      "Index: 38642 entries, 0 to 39716\n",
      "Data columns (total 18 columns):\n",
      " #   Column                Non-Null Count  Dtype  \n",
      "---  ------                --------------  -----  \n",
      " 0   id                    38642 non-null  int64  \n",
      " 1   loan_amnt             38642 non-null  int64  \n",
      " 2   funded_amnt           38642 non-null  int64  \n",
      " 3   term                  38642 non-null  object \n",
      " 4   int_rate              38642 non-null  object \n",
      " 5   installment           38642 non-null  float64\n",
      " 6   grade                 38642 non-null  object \n",
      " 7   sub_grade             38642 non-null  object \n",
      " 8   emp_length            38642 non-null  object \n",
      " 9   home_ownership        38642 non-null  object \n",
      " 10  annual_inc            38642 non-null  float64\n",
      " 11  verification_status   38642 non-null  object \n",
      " 12  issue_d               38642 non-null  object \n",
      " 13  loan_status           38642 non-null  object \n",
      " 14  purpose               38642 non-null  object \n",
      " 15  addr_state            38642 non-null  object \n",
      " 16  dti                   38642 non-null  float64\n",
      " 17  pub_rec_bankruptcies  38642 non-null  float64\n",
      "dtypes: float64(4), int64(3), object(11)\n",
      "memory usage: 5.6+ MB\n"
     ]
    }
   ],
   "source": [
    "df.info()"
   ]
  },
  {
   "cell_type": "markdown",
   "metadata": {},
   "source": [
    "Info - Analysing columns, one by one and fixing them if needed, id, loan_amount and funded_amnt are in int64 datatype hence need not to be checked, we will start from term"
   ]
  },
  {
   "cell_type": "code",
   "execution_count": 297,
   "metadata": {},
   "outputs": [
    {
     "data": {
      "text/plain": [
       "0         36 months\n",
       "1         60 months\n",
       "2         36 months\n",
       "3         36 months\n",
       "4         60 months\n",
       "            ...    \n",
       "39712     36 months\n",
       "39713     36 months\n",
       "39714     36 months\n",
       "39715     36 months\n",
       "39716     36 months\n",
       "Name: term, Length: 38642, dtype: object"
      ]
     },
     "execution_count": 297,
     "metadata": {},
     "output_type": "execute_result"
    }
   ],
   "source": [
    "df.term"
   ]
  },
  {
   "cell_type": "markdown",
   "metadata": {},
   "source": [
    "Observation - term column consists of ' months' as an extra value \n",
    "\n",
    "Action Needed - ' months' needs to be removed and then the column datatype should be converted to int"
   ]
  },
  {
   "cell_type": "code",
   "execution_count": 298,
   "metadata": {},
   "outputs": [],
   "source": [
    "df.term=df.term.apply(lambda x: int(x.replace(' months',''))).astype(int)"
   ]
  },
  {
   "cell_type": "code",
   "execution_count": 299,
   "metadata": {},
   "outputs": [
    {
     "name": "stdout",
     "output_type": "stream",
     "text": [
      "<class 'pandas.core.frame.DataFrame'>\n",
      "Index: 38642 entries, 0 to 39716\n",
      "Data columns (total 18 columns):\n",
      " #   Column                Non-Null Count  Dtype  \n",
      "---  ------                --------------  -----  \n",
      " 0   id                    38642 non-null  int64  \n",
      " 1   loan_amnt             38642 non-null  int64  \n",
      " 2   funded_amnt           38642 non-null  int64  \n",
      " 3   term                  38642 non-null  int64  \n",
      " 4   int_rate              38642 non-null  object \n",
      " 5   installment           38642 non-null  float64\n",
      " 6   grade                 38642 non-null  object \n",
      " 7   sub_grade             38642 non-null  object \n",
      " 8   emp_length            38642 non-null  object \n",
      " 9   home_ownership        38642 non-null  object \n",
      " 10  annual_inc            38642 non-null  float64\n",
      " 11  verification_status   38642 non-null  object \n",
      " 12  issue_d               38642 non-null  object \n",
      " 13  loan_status           38642 non-null  object \n",
      " 14  purpose               38642 non-null  object \n",
      " 15  addr_state            38642 non-null  object \n",
      " 16  dti                   38642 non-null  float64\n",
      " 17  pub_rec_bankruptcies  38642 non-null  float64\n",
      "dtypes: float64(4), int64(4), object(10)\n",
      "memory usage: 5.6+ MB\n"
     ]
    }
   ],
   "source": [
    "df.info()"
   ]
  },
  {
   "cell_type": "code",
   "execution_count": 300,
   "metadata": {},
   "outputs": [
    {
     "data": {
      "text/plain": [
       "0        10.65%\n",
       "1        15.27%\n",
       "2        15.96%\n",
       "3        13.49%\n",
       "4        12.69%\n",
       "          ...  \n",
       "39712     8.07%\n",
       "39713    10.28%\n",
       "39714     8.07%\n",
       "39715     7.43%\n",
       "39716    13.75%\n",
       "Name: int_rate, Length: 38642, dtype: object"
      ]
     },
     "execution_count": 300,
     "metadata": {},
     "output_type": "execute_result"
    }
   ],
   "source": [
    "# Now lets check int_rate\n",
    "df.int_rate"
   ]
  },
  {
   "cell_type": "markdown",
   "metadata": {},
   "source": [
    "Observation - int_rate values consists of an extra \"%\" character\n",
    "\n",
    "Action Needed - \"%\" needs to be removed from values of int_rate column and conversion of datatype of column to float, rounded off to 2 decimal places"
   ]
  },
  {
   "cell_type": "code",
   "execution_count": 301,
   "metadata": {},
   "outputs": [],
   "source": [
    "df.int_rate=df.int_rate.apply(lambda x:str(x).replace('%','')).astype('float').round(2)"
   ]
  },
  {
   "cell_type": "code",
   "execution_count": 302,
   "metadata": {},
   "outputs": [
    {
     "name": "stdout",
     "output_type": "stream",
     "text": [
      "<class 'pandas.core.frame.DataFrame'>\n",
      "Index: 38642 entries, 0 to 39716\n",
      "Data columns (total 18 columns):\n",
      " #   Column                Non-Null Count  Dtype  \n",
      "---  ------                --------------  -----  \n",
      " 0   id                    38642 non-null  int64  \n",
      " 1   loan_amnt             38642 non-null  int64  \n",
      " 2   funded_amnt           38642 non-null  int64  \n",
      " 3   term                  38642 non-null  int64  \n",
      " 4   int_rate              38642 non-null  float64\n",
      " 5   installment           38642 non-null  float64\n",
      " 6   grade                 38642 non-null  object \n",
      " 7   sub_grade             38642 non-null  object \n",
      " 8   emp_length            38642 non-null  object \n",
      " 9   home_ownership        38642 non-null  object \n",
      " 10  annual_inc            38642 non-null  float64\n",
      " 11  verification_status   38642 non-null  object \n",
      " 12  issue_d               38642 non-null  object \n",
      " 13  loan_status           38642 non-null  object \n",
      " 14  purpose               38642 non-null  object \n",
      " 15  addr_state            38642 non-null  object \n",
      " 16  dti                   38642 non-null  float64\n",
      " 17  pub_rec_bankruptcies  38642 non-null  float64\n",
      "dtypes: float64(5), int64(4), object(9)\n",
      "memory usage: 5.6+ MB\n"
     ]
    }
   ],
   "source": [
    "df.info()"
   ]
  },
  {
   "cell_type": "code",
   "execution_count": 303,
   "metadata": {},
   "outputs": [],
   "source": [
    "df.grade=df.grade.astype('category')"
   ]
  },
  {
   "cell_type": "code",
   "execution_count": 304,
   "metadata": {},
   "outputs": [
    {
     "name": "stdout",
     "output_type": "stream",
     "text": [
      "<class 'pandas.core.frame.DataFrame'>\n",
      "Index: 38642 entries, 0 to 39716\n",
      "Data columns (total 18 columns):\n",
      " #   Column                Non-Null Count  Dtype   \n",
      "---  ------                --------------  -----   \n",
      " 0   id                    38642 non-null  int64   \n",
      " 1   loan_amnt             38642 non-null  int64   \n",
      " 2   funded_amnt           38642 non-null  int64   \n",
      " 3   term                  38642 non-null  int64   \n",
      " 4   int_rate              38642 non-null  float64 \n",
      " 5   installment           38642 non-null  float64 \n",
      " 6   grade                 38642 non-null  category\n",
      " 7   sub_grade             38642 non-null  object  \n",
      " 8   emp_length            38642 non-null  object  \n",
      " 9   home_ownership        38642 non-null  object  \n",
      " 10  annual_inc            38642 non-null  float64 \n",
      " 11  verification_status   38642 non-null  object  \n",
      " 12  issue_d               38642 non-null  object  \n",
      " 13  loan_status           38642 non-null  object  \n",
      " 14  purpose               38642 non-null  object  \n",
      " 15  addr_state            38642 non-null  object  \n",
      " 16  dti                   38642 non-null  float64 \n",
      " 17  pub_rec_bankruptcies  38642 non-null  float64 \n",
      "dtypes: category(1), float64(5), int64(4), object(8)\n",
      "memory usage: 5.3+ MB\n"
     ]
    }
   ],
   "source": [
    "df.info()"
   ]
  },
  {
   "cell_type": "code",
   "execution_count": 305,
   "metadata": {},
   "outputs": [
    {
     "data": {
      "text/plain": [
       "0        B2\n",
       "1        C4\n",
       "2        C5\n",
       "3        C1\n",
       "4        B5\n",
       "         ..\n",
       "39712    A4\n",
       "39713    C1\n",
       "39714    A4\n",
       "39715    A2\n",
       "39716    E2\n",
       "Name: sub_grade, Length: 38642, dtype: object"
      ]
     },
     "execution_count": 305,
     "metadata": {},
     "output_type": "execute_result"
    }
   ],
   "source": [
    "df.sub_grade"
   ]
  },
  {
   "cell_type": "code",
   "execution_count": 306,
   "metadata": {},
   "outputs": [],
   "source": [
    "df.sub_grade=df.sub_grade.astype('category')"
   ]
  },
  {
   "cell_type": "code",
   "execution_count": 307,
   "metadata": {},
   "outputs": [
    {
     "name": "stdout",
     "output_type": "stream",
     "text": [
      "<class 'pandas.core.frame.DataFrame'>\n",
      "Index: 38642 entries, 0 to 39716\n",
      "Data columns (total 18 columns):\n",
      " #   Column                Non-Null Count  Dtype   \n",
      "---  ------                --------------  -----   \n",
      " 0   id                    38642 non-null  int64   \n",
      " 1   loan_amnt             38642 non-null  int64   \n",
      " 2   funded_amnt           38642 non-null  int64   \n",
      " 3   term                  38642 non-null  int64   \n",
      " 4   int_rate              38642 non-null  float64 \n",
      " 5   installment           38642 non-null  float64 \n",
      " 6   grade                 38642 non-null  category\n",
      " 7   sub_grade             38642 non-null  category\n",
      " 8   emp_length            38642 non-null  object  \n",
      " 9   home_ownership        38642 non-null  object  \n",
      " 10  annual_inc            38642 non-null  float64 \n",
      " 11  verification_status   38642 non-null  object  \n",
      " 12  issue_d               38642 non-null  object  \n",
      " 13  loan_status           38642 non-null  object  \n",
      " 14  purpose               38642 non-null  object  \n",
      " 15  addr_state            38642 non-null  object  \n",
      " 16  dti                   38642 non-null  float64 \n",
      " 17  pub_rec_bankruptcies  38642 non-null  float64 \n",
      "dtypes: category(2), float64(5), int64(4), object(7)\n",
      "memory usage: 5.1+ MB\n"
     ]
    }
   ],
   "source": [
    "df.info()"
   ]
  },
  {
   "cell_type": "code",
   "execution_count": 308,
   "metadata": {},
   "outputs": [
    {
     "data": {
      "text/plain": [
       "emp_length\n",
       "10+ years    8879\n",
       "< 1 year     4583\n",
       "2 years      4388\n",
       "3 years      4095\n",
       "4 years      3436\n",
       "5 years      3282\n",
       "1 year       3240\n",
       "6 years      2229\n",
       "7 years      1773\n",
       "8 years      1479\n",
       "9 years      1258\n",
       "Name: count, dtype: int64"
      ]
     },
     "execution_count": 308,
     "metadata": {},
     "output_type": "execute_result"
    }
   ],
   "source": [
    "df.emp_length.value_counts()"
   ]
  },
  {
   "cell_type": "markdown",
   "metadata": {},
   "source": [
    "Observation - Most of the values are having 'year' or 'years' as extra column while others are having special characters like '+' and '<' as well\n",
    "\n",
    "Action needed - 'year' and 'years' needs to be removed, '<' and '+' special characters be removed"
   ]
  },
  {
   "cell_type": "code",
   "execution_count": 309,
   "metadata": {},
   "outputs": [],
   "source": [
    "df.emp_length=df.emp_length.apply(lambda x: x.replace('years','').replace('+','').replace('< 1','0.5').replace('year','')).astype(float)\n"
   ]
  },
  {
   "cell_type": "code",
   "execution_count": 310,
   "metadata": {},
   "outputs": [
    {
     "data": {
      "text/plain": [
       "emp_length\n",
       "10.0    8879\n",
       "0.5     4583\n",
       "2.0     4388\n",
       "3.0     4095\n",
       "4.0     3436\n",
       "5.0     3282\n",
       "1.0     3240\n",
       "6.0     2229\n",
       "7.0     1773\n",
       "8.0     1479\n",
       "9.0     1258\n",
       "Name: count, dtype: int64"
      ]
     },
     "execution_count": 310,
     "metadata": {},
     "output_type": "execute_result"
    }
   ],
   "source": [
    "df.emp_length.value_counts()"
   ]
  },
  {
   "cell_type": "code",
   "execution_count": 311,
   "metadata": {},
   "outputs": [
    {
     "data": {
      "text/plain": [
       "home_ownership\n",
       "RENT        18488\n",
       "MORTGAGE    17212\n",
       "OWN          2841\n",
       "OTHER          98\n",
       "NONE            3\n",
       "Name: count, dtype: int64"
      ]
     },
     "execution_count": 311,
     "metadata": {},
     "output_type": "execute_result"
    }
   ],
   "source": [
    "df.home_ownership.value_counts()"
   ]
  },
  {
   "cell_type": "code",
   "execution_count": 312,
   "metadata": {},
   "outputs": [],
   "source": [
    "df.home_ownership=df.home_ownership.astype('category')"
   ]
  },
  {
   "cell_type": "code",
   "execution_count": 313,
   "metadata": {},
   "outputs": [
    {
     "name": "stdout",
     "output_type": "stream",
     "text": [
      "<class 'pandas.core.frame.DataFrame'>\n",
      "Index: 38642 entries, 0 to 39716\n",
      "Data columns (total 18 columns):\n",
      " #   Column                Non-Null Count  Dtype   \n",
      "---  ------                --------------  -----   \n",
      " 0   id                    38642 non-null  int64   \n",
      " 1   loan_amnt             38642 non-null  int64   \n",
      " 2   funded_amnt           38642 non-null  int64   \n",
      " 3   term                  38642 non-null  int64   \n",
      " 4   int_rate              38642 non-null  float64 \n",
      " 5   installment           38642 non-null  float64 \n",
      " 6   grade                 38642 non-null  category\n",
      " 7   sub_grade             38642 non-null  category\n",
      " 8   emp_length            38642 non-null  float64 \n",
      " 9   home_ownership        38642 non-null  category\n",
      " 10  annual_inc            38642 non-null  float64 \n",
      " 11  verification_status   38642 non-null  object  \n",
      " 12  issue_d               38642 non-null  object  \n",
      " 13  loan_status           38642 non-null  object  \n",
      " 14  purpose               38642 non-null  object  \n",
      " 15  addr_state            38642 non-null  object  \n",
      " 16  dti                   38642 non-null  float64 \n",
      " 17  pub_rec_bankruptcies  38642 non-null  float64 \n",
      "dtypes: category(3), float64(6), int64(4), object(5)\n",
      "memory usage: 4.8+ MB\n"
     ]
    }
   ],
   "source": [
    "df.info()"
   ]
  },
  {
   "cell_type": "code",
   "execution_count": 314,
   "metadata": {},
   "outputs": [
    {
     "data": {
      "text/plain": [
       "0         24000.0\n",
       "1         30000.0\n",
       "2         12252.0\n",
       "3         49200.0\n",
       "4         80000.0\n",
       "           ...   \n",
       "39712    110000.0\n",
       "39713     18000.0\n",
       "39714    100000.0\n",
       "39715    200000.0\n",
       "39716     22000.0\n",
       "Name: annual_inc, Length: 38642, dtype: float64"
      ]
     },
     "execution_count": 314,
     "metadata": {},
     "output_type": "execute_result"
    }
   ],
   "source": [
    "df.annual_inc"
   ]
  },
  {
   "cell_type": "code",
   "execution_count": 315,
   "metadata": {},
   "outputs": [
    {
     "data": {
      "text/plain": [
       "verification_status\n",
       "Not Verified       16498\n",
       "Verified           12353\n",
       "Source Verified     9791\n",
       "Name: count, dtype: int64"
      ]
     },
     "execution_count": 315,
     "metadata": {},
     "output_type": "execute_result"
    }
   ],
   "source": [
    "df.verification_status.value_counts()"
   ]
  },
  {
   "cell_type": "code",
   "execution_count": 316,
   "metadata": {},
   "outputs": [],
   "source": [
    "df.verification_status=df.verification_status.astype('category')"
   ]
  },
  {
   "cell_type": "code",
   "execution_count": 317,
   "metadata": {},
   "outputs": [
    {
     "name": "stdout",
     "output_type": "stream",
     "text": [
      "<class 'pandas.core.frame.DataFrame'>\n",
      "Index: 38642 entries, 0 to 39716\n",
      "Data columns (total 18 columns):\n",
      " #   Column                Non-Null Count  Dtype   \n",
      "---  ------                --------------  -----   \n",
      " 0   id                    38642 non-null  int64   \n",
      " 1   loan_amnt             38642 non-null  int64   \n",
      " 2   funded_amnt           38642 non-null  int64   \n",
      " 3   term                  38642 non-null  int64   \n",
      " 4   int_rate              38642 non-null  float64 \n",
      " 5   installment           38642 non-null  float64 \n",
      " 6   grade                 38642 non-null  category\n",
      " 7   sub_grade             38642 non-null  category\n",
      " 8   emp_length            38642 non-null  float64 \n",
      " 9   home_ownership        38642 non-null  category\n",
      " 10  annual_inc            38642 non-null  float64 \n",
      " 11  verification_status   38642 non-null  category\n",
      " 12  issue_d               38642 non-null  object  \n",
      " 13  loan_status           38642 non-null  object  \n",
      " 14  purpose               38642 non-null  object  \n",
      " 15  addr_state            38642 non-null  object  \n",
      " 16  dti                   38642 non-null  float64 \n",
      " 17  pub_rec_bankruptcies  38642 non-null  float64 \n",
      "dtypes: category(4), float64(6), int64(4), object(4)\n",
      "memory usage: 4.6+ MB\n"
     ]
    }
   ],
   "source": [
    "df.info()"
   ]
  },
  {
   "cell_type": "code",
   "execution_count": 318,
   "metadata": {},
   "outputs": [
    {
     "data": {
      "text/plain": [
       "0        Dec-11\n",
       "1        Dec-11\n",
       "2        Dec-11\n",
       "3        Dec-11\n",
       "4        Dec-11\n",
       "          ...  \n",
       "39712    Jul-07\n",
       "39713    Jul-07\n",
       "39714    Jul-07\n",
       "39715    Jul-07\n",
       "39716    Jun-07\n",
       "Name: issue_d, Length: 38642, dtype: object"
      ]
     },
     "execution_count": 318,
     "metadata": {},
     "output_type": "execute_result"
    }
   ],
   "source": [
    "df.issue_d"
   ]
  },
  {
   "cell_type": "code",
   "execution_count": 319,
   "metadata": {},
   "outputs": [],
   "source": [
    "#Converting issue_d column to date time\n",
    "df.issue_d=pd.to_datetime(df.issue_d,format='%b-%y')"
   ]
  },
  {
   "cell_type": "code",
   "execution_count": 320,
   "metadata": {},
   "outputs": [
    {
     "data": {
      "text/plain": [
       "0       2011-12-01\n",
       "1       2011-12-01\n",
       "2       2011-12-01\n",
       "3       2011-12-01\n",
       "4       2011-12-01\n",
       "           ...    \n",
       "39712   2007-07-01\n",
       "39713   2007-07-01\n",
       "39714   2007-07-01\n",
       "39715   2007-07-01\n",
       "39716   2007-06-01\n",
       "Name: issue_d, Length: 38642, dtype: datetime64[ns]"
      ]
     },
     "execution_count": 320,
     "metadata": {},
     "output_type": "execute_result"
    }
   ],
   "source": [
    "df.issue_d"
   ]
  },
  {
   "cell_type": "markdown",
   "metadata": {},
   "source": [
    "Extracting 2 more columns from issue_d column, namely issue_year, issue_month"
   ]
  },
  {
   "cell_type": "code",
   "execution_count": 321,
   "metadata": {},
   "outputs": [],
   "source": [
    "df['issue_year']=pd.to_datetime(df.issue_d,format='%b-%y').dt.year"
   ]
  },
  {
   "cell_type": "code",
   "execution_count": 322,
   "metadata": {},
   "outputs": [],
   "source": [
    "df['issue_month']=pd.to_datetime(df.issue_d,format='%b-%y').dt.month"
   ]
  },
  {
   "cell_type": "code",
   "execution_count": 323,
   "metadata": {},
   "outputs": [
    {
     "data": {
      "text/plain": [
       "Index(['id', 'loan_amnt', 'funded_amnt', 'term', 'int_rate', 'installment',\n",
       "       'grade', 'sub_grade', 'emp_length', 'home_ownership', 'annual_inc',\n",
       "       'verification_status', 'issue_d', 'loan_status', 'purpose',\n",
       "       'addr_state', 'dti', 'pub_rec_bankruptcies', 'issue_year',\n",
       "       'issue_month'],\n",
       "      dtype='object')"
      ]
     },
     "execution_count": 323,
     "metadata": {},
     "output_type": "execute_result"
    }
   ],
   "source": [
    "df.columns"
   ]
  },
  {
   "cell_type": "code",
   "execution_count": 324,
   "metadata": {},
   "outputs": [
    {
     "data": {
      "text/plain": [
       "0        2011\n",
       "1        2011\n",
       "2        2011\n",
       "3        2011\n",
       "4        2011\n",
       "         ... \n",
       "39712    2007\n",
       "39713    2007\n",
       "39714    2007\n",
       "39715    2007\n",
       "39716    2007\n",
       "Name: issue_year, Length: 38642, dtype: int32"
      ]
     },
     "execution_count": 324,
     "metadata": {},
     "output_type": "execute_result"
    }
   ],
   "source": [
    "df.issue_year"
   ]
  },
  {
   "cell_type": "code",
   "execution_count": 325,
   "metadata": {},
   "outputs": [
    {
     "data": {
      "text/plain": [
       "0        12\n",
       "1        12\n",
       "2        12\n",
       "3        12\n",
       "4        12\n",
       "         ..\n",
       "39712     7\n",
       "39713     7\n",
       "39714     7\n",
       "39715     7\n",
       "39716     6\n",
       "Name: issue_month, Length: 38642, dtype: int32"
      ]
     },
     "execution_count": 325,
     "metadata": {},
     "output_type": "execute_result"
    }
   ],
   "source": [
    "df.issue_month"
   ]
  },
  {
   "cell_type": "code",
   "execution_count": 326,
   "metadata": {},
   "outputs": [
    {
     "name": "stdout",
     "output_type": "stream",
     "text": [
      "<class 'pandas.core.frame.DataFrame'>\n",
      "Index: 38642 entries, 0 to 39716\n",
      "Data columns (total 20 columns):\n",
      " #   Column                Non-Null Count  Dtype         \n",
      "---  ------                --------------  -----         \n",
      " 0   id                    38642 non-null  int64         \n",
      " 1   loan_amnt             38642 non-null  int64         \n",
      " 2   funded_amnt           38642 non-null  int64         \n",
      " 3   term                  38642 non-null  int64         \n",
      " 4   int_rate              38642 non-null  float64       \n",
      " 5   installment           38642 non-null  float64       \n",
      " 6   grade                 38642 non-null  category      \n",
      " 7   sub_grade             38642 non-null  category      \n",
      " 8   emp_length            38642 non-null  float64       \n",
      " 9   home_ownership        38642 non-null  category      \n",
      " 10  annual_inc            38642 non-null  float64       \n",
      " 11  verification_status   38642 non-null  category      \n",
      " 12  issue_d               38642 non-null  datetime64[ns]\n",
      " 13  loan_status           38642 non-null  object        \n",
      " 14  purpose               38642 non-null  object        \n",
      " 15  addr_state            38642 non-null  object        \n",
      " 16  dti                   38642 non-null  float64       \n",
      " 17  pub_rec_bankruptcies  38642 non-null  float64       \n",
      " 18  issue_year            38642 non-null  int32         \n",
      " 19  issue_month           38642 non-null  int32         \n",
      "dtypes: category(4), datetime64[ns](1), float64(6), int32(2), int64(4), object(3)\n",
      "memory usage: 4.9+ MB\n"
     ]
    }
   ],
   "source": [
    "df.info()"
   ]
  },
  {
   "cell_type": "code",
   "execution_count": 327,
   "metadata": {},
   "outputs": [],
   "source": [
    "df.purpose=df.purpose.astype('category')"
   ]
  },
  {
   "cell_type": "code",
   "execution_count": 328,
   "metadata": {},
   "outputs": [],
   "source": [
    "df.addr_state=df.addr_state.astype('category')"
   ]
  },
  {
   "cell_type": "code",
   "execution_count": 329,
   "metadata": {},
   "outputs": [
    {
     "data": {
      "text/html": [
       "<div>\n",
       "<style scoped>\n",
       "    .dataframe tbody tr th:only-of-type {\n",
       "        vertical-align: middle;\n",
       "    }\n",
       "\n",
       "    .dataframe tbody tr th {\n",
       "        vertical-align: top;\n",
       "    }\n",
       "\n",
       "    .dataframe thead th {\n",
       "        text-align: right;\n",
       "    }\n",
       "</style>\n",
       "<table border=\"1\" class=\"dataframe\">\n",
       "  <thead>\n",
       "    <tr style=\"text-align: right;\">\n",
       "      <th></th>\n",
       "      <th>id</th>\n",
       "      <th>loan_amnt</th>\n",
       "      <th>funded_amnt</th>\n",
       "      <th>term</th>\n",
       "      <th>int_rate</th>\n",
       "      <th>installment</th>\n",
       "      <th>grade</th>\n",
       "      <th>sub_grade</th>\n",
       "      <th>emp_length</th>\n",
       "      <th>home_ownership</th>\n",
       "      <th>annual_inc</th>\n",
       "      <th>verification_status</th>\n",
       "      <th>issue_d</th>\n",
       "      <th>loan_status</th>\n",
       "      <th>purpose</th>\n",
       "      <th>addr_state</th>\n",
       "      <th>dti</th>\n",
       "      <th>pub_rec_bankruptcies</th>\n",
       "      <th>issue_year</th>\n",
       "      <th>issue_month</th>\n",
       "    </tr>\n",
       "  </thead>\n",
       "  <tbody>\n",
       "    <tr>\n",
       "      <th>0</th>\n",
       "      <td>1077501</td>\n",
       "      <td>5000</td>\n",
       "      <td>5000</td>\n",
       "      <td>36</td>\n",
       "      <td>10.65</td>\n",
       "      <td>162.87</td>\n",
       "      <td>B</td>\n",
       "      <td>B2</td>\n",
       "      <td>10.0</td>\n",
       "      <td>RENT</td>\n",
       "      <td>24000.0</td>\n",
       "      <td>Verified</td>\n",
       "      <td>2011-12-01</td>\n",
       "      <td>Fully Paid</td>\n",
       "      <td>credit_card</td>\n",
       "      <td>AZ</td>\n",
       "      <td>27.65</td>\n",
       "      <td>0.0</td>\n",
       "      <td>2011</td>\n",
       "      <td>12</td>\n",
       "    </tr>\n",
       "    <tr>\n",
       "      <th>1</th>\n",
       "      <td>1077430</td>\n",
       "      <td>2500</td>\n",
       "      <td>2500</td>\n",
       "      <td>60</td>\n",
       "      <td>15.27</td>\n",
       "      <td>59.83</td>\n",
       "      <td>C</td>\n",
       "      <td>C4</td>\n",
       "      <td>0.5</td>\n",
       "      <td>RENT</td>\n",
       "      <td>30000.0</td>\n",
       "      <td>Source Verified</td>\n",
       "      <td>2011-12-01</td>\n",
       "      <td>Charged Off</td>\n",
       "      <td>car</td>\n",
       "      <td>GA</td>\n",
       "      <td>1.00</td>\n",
       "      <td>0.0</td>\n",
       "      <td>2011</td>\n",
       "      <td>12</td>\n",
       "    </tr>\n",
       "    <tr>\n",
       "      <th>2</th>\n",
       "      <td>1077175</td>\n",
       "      <td>2400</td>\n",
       "      <td>2400</td>\n",
       "      <td>36</td>\n",
       "      <td>15.96</td>\n",
       "      <td>84.33</td>\n",
       "      <td>C</td>\n",
       "      <td>C5</td>\n",
       "      <td>10.0</td>\n",
       "      <td>RENT</td>\n",
       "      <td>12252.0</td>\n",
       "      <td>Not Verified</td>\n",
       "      <td>2011-12-01</td>\n",
       "      <td>Fully Paid</td>\n",
       "      <td>small_business</td>\n",
       "      <td>IL</td>\n",
       "      <td>8.72</td>\n",
       "      <td>0.0</td>\n",
       "      <td>2011</td>\n",
       "      <td>12</td>\n",
       "    </tr>\n",
       "    <tr>\n",
       "      <th>3</th>\n",
       "      <td>1076863</td>\n",
       "      <td>10000</td>\n",
       "      <td>10000</td>\n",
       "      <td>36</td>\n",
       "      <td>13.49</td>\n",
       "      <td>339.31</td>\n",
       "      <td>C</td>\n",
       "      <td>C1</td>\n",
       "      <td>10.0</td>\n",
       "      <td>RENT</td>\n",
       "      <td>49200.0</td>\n",
       "      <td>Source Verified</td>\n",
       "      <td>2011-12-01</td>\n",
       "      <td>Fully Paid</td>\n",
       "      <td>other</td>\n",
       "      <td>CA</td>\n",
       "      <td>20.00</td>\n",
       "      <td>0.0</td>\n",
       "      <td>2011</td>\n",
       "      <td>12</td>\n",
       "    </tr>\n",
       "    <tr>\n",
       "      <th>4</th>\n",
       "      <td>1075358</td>\n",
       "      <td>3000</td>\n",
       "      <td>3000</td>\n",
       "      <td>60</td>\n",
       "      <td>12.69</td>\n",
       "      <td>67.79</td>\n",
       "      <td>B</td>\n",
       "      <td>B5</td>\n",
       "      <td>1.0</td>\n",
       "      <td>RENT</td>\n",
       "      <td>80000.0</td>\n",
       "      <td>Source Verified</td>\n",
       "      <td>2011-12-01</td>\n",
       "      <td>Current</td>\n",
       "      <td>other</td>\n",
       "      <td>OR</td>\n",
       "      <td>17.94</td>\n",
       "      <td>0.0</td>\n",
       "      <td>2011</td>\n",
       "      <td>12</td>\n",
       "    </tr>\n",
       "  </tbody>\n",
       "</table>\n",
       "</div>"
      ],
      "text/plain": [
       "        id  loan_amnt  funded_amnt  term  int_rate  installment grade  \\\n",
       "0  1077501       5000         5000    36     10.65       162.87     B   \n",
       "1  1077430       2500         2500    60     15.27        59.83     C   \n",
       "2  1077175       2400         2400    36     15.96        84.33     C   \n",
       "3  1076863      10000        10000    36     13.49       339.31     C   \n",
       "4  1075358       3000         3000    60     12.69        67.79     B   \n",
       "\n",
       "  sub_grade  emp_length home_ownership  annual_inc verification_status  \\\n",
       "0        B2        10.0           RENT     24000.0            Verified   \n",
       "1        C4         0.5           RENT     30000.0     Source Verified   \n",
       "2        C5        10.0           RENT     12252.0        Not Verified   \n",
       "3        C1        10.0           RENT     49200.0     Source Verified   \n",
       "4        B5         1.0           RENT     80000.0     Source Verified   \n",
       "\n",
       "     issue_d  loan_status         purpose addr_state    dti  \\\n",
       "0 2011-12-01   Fully Paid     credit_card         AZ  27.65   \n",
       "1 2011-12-01  Charged Off             car         GA   1.00   \n",
       "2 2011-12-01   Fully Paid  small_business         IL   8.72   \n",
       "3 2011-12-01   Fully Paid           other         CA  20.00   \n",
       "4 2011-12-01      Current           other         OR  17.94   \n",
       "\n",
       "   pub_rec_bankruptcies  issue_year  issue_month  \n",
       "0                   0.0        2011           12  \n",
       "1                   0.0        2011           12  \n",
       "2                   0.0        2011           12  \n",
       "3                   0.0        2011           12  \n",
       "4                   0.0        2011           12  "
      ]
     },
     "execution_count": 329,
     "metadata": {},
     "output_type": "execute_result"
    }
   ],
   "source": [
    "# Setting decimal point limit for all data \n",
    "for x in df.columns:\n",
    "    if(df[x].dtype=='float64'):\n",
    "      df[x]=df[x].round(2)\n",
    "      \n",
    "df.head()"
   ]
  },
  {
   "cell_type": "code",
   "execution_count": 330,
   "metadata": {},
   "outputs": [
    {
     "data": {
      "text/plain": [
       "id                      0\n",
       "loan_amnt               0\n",
       "funded_amnt             0\n",
       "term                    0\n",
       "int_rate                0\n",
       "installment             0\n",
       "grade                   0\n",
       "sub_grade               0\n",
       "emp_length              0\n",
       "home_ownership          0\n",
       "annual_inc              0\n",
       "verification_status     0\n",
       "issue_d                 0\n",
       "loan_status             0\n",
       "purpose                 0\n",
       "addr_state              0\n",
       "dti                     0\n",
       "pub_rec_bankruptcies    0\n",
       "issue_year              0\n",
       "issue_month             0\n",
       "dtype: int64"
      ]
     },
     "execution_count": 330,
     "metadata": {},
     "output_type": "execute_result"
    }
   ],
   "source": [
    "df.isnull().sum()"
   ]
  },
  {
   "cell_type": "markdown",
   "metadata": {},
   "source": [
    "Now that we have handled the null values, lets remove the outliers"
   ]
  },
  {
   "cell_type": "markdown",
   "metadata": {},
   "source": []
  }
 ],
 "metadata": {
  "kernelspec": {
   "display_name": "Python 3 (ipykernel)",
   "language": "python",
   "name": "python3"
  },
  "language_info": {
   "codemirror_mode": {
    "name": "ipython",
    "version": 3
   },
   "file_extension": ".py",
   "mimetype": "text/x-python",
   "name": "python",
   "nbconvert_exporter": "python",
   "pygments_lexer": "ipython3",
   "version": "3.12.7"
  }
 },
 "nbformat": 4,
 "nbformat_minor": 2
}
